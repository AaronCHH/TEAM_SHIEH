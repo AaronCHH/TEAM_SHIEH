{
 "cells": [
  {
   "cell_type": "markdown",
   "metadata": {},
   "source": [
    "<div id=\"toc\"></div>"
   ]
  },
  {
   "cell_type": "markdown",
   "metadata": {},
   "source": [
    "# Preparation"
   ]
  },
  {
   "cell_type": "markdown",
   "metadata": {},
   "source": [
    "## 1. Anaconda + Python"
   ]
  },
  {
   "cell_type": "markdown",
   "metadata": {},
   "source": [
    "* https://www.continuum.io/downloads"
   ]
  },
  {
   "cell_type": "markdown",
   "metadata": {},
   "source": [
    "> For using arcpy in Jupyter notebook, use __Python 2.7 32bit__ version (Anaconda2-4.3.1-Windows-x86.exe)"
   ]
  },
  {
   "cell_type": "markdown",
   "metadata": {},
   "source": [
    "## 2. _Desktop10.1.pth_ file and it's location"
   ]
  },
  {
   "cell_type": "markdown",
   "metadata": {},
   "source": [
    "* __From:__ C:\\Python27\\ArcGIS10.1\\Lib\\site-packages\\Desktop10.1.pth"
   ]
  },
  {
   "cell_type": "markdown",
   "metadata": {},
   "source": [
    "* __To:__ C:\\Anaconda2732\\Lib\\site-packages\\Desktop10.1.pth"
   ]
  },
  {
   "cell_type": "markdown",
   "metadata": {},
   "source": [
    "# Intro To arcpy"
   ]
  },
  {
   "cell_type": "markdown",
   "metadata": {},
   "source": [
    "### Import module"
   ]
  },
  {
   "cell_type": "code",
   "execution_count": 1,
   "metadata": {
    "collapsed": true
   },
   "outputs": [],
   "source": [
    "import arcpy, os, sys"
   ]
  },
  {
   "cell_type": "code",
   "execution_count": 2,
   "metadata": {
    "collapsed": true
   },
   "outputs": [],
   "source": [
    "from arcpy import env"
   ]
  },
  {
   "cell_type": "markdown",
   "metadata": {},
   "source": [
    "### Set arcpy home directory"
   ]
  },
  {
   "cell_type": "code",
   "execution_count": 3,
   "metadata": {
    "collapsed": true
   },
   "outputs": [],
   "source": [
    "env.workspace = \"I:/WSI/20170316_TNDEM2/DEMO/CH10/台中市/\""
   ]
  },
  {
   "cell_type": "markdown",
   "metadata": {},
   "source": [
    "### Observe"
   ]
  },
  {
   "cell_type": "code",
   "execution_count": 10,
   "metadata": {
    "collapsed": false,
    "scrolled": false
   },
   "outputs": [
    {
     "data": {
      "text/plain": [
       "[u'\\u53f0\\u4e2d\\u5e02\\u516c\\u5712.shp',\n",
       " u'\\u53f0\\u4e2d\\u5e02\\u5340\\u754c(\\u9644\\u4eba\\u53e3).shp',\n",
       " u'\\u53f0\\u4e2d\\u5e02\\u5340\\u754c.shp',\n",
       " u'\\u53f0\\u4e2d\\u5e02\\u570b\\u9053.shp',\n",
       " u'\\u53f0\\u4e2d\\u5e02\\u5b78\\u6821.shp',\n",
       " u'\\u53f0\\u4e2d\\u5e02\\u5de5\\u696d\\u5340.shp',\n",
       " u'\\u53f0\\u4e2d\\u5e02\\u7701\\u9053.shp',\n",
       " u'\\u53f0\\u4e2d\\u5e02\\u7e23\\u9053.shp',\n",
       " u'\\u53f0\\u4e2d\\u5e02\\u8a2d\\u65bd\\u9ede.shp']"
      ]
     },
     "execution_count": 10,
     "metadata": {},
     "output_type": "execute_result"
    }
   ],
   "source": [
    "arcpy.ListFeatureClasses()"
   ]
  },
  {
   "cell_type": "code",
   "execution_count": 8,
   "metadata": {
    "collapsed": false
   },
   "outputs": [],
   "source": [
    "# Save result to variable\n",
    "listFC = arcpy.ListFeatureClasses()"
   ]
  },
  {
   "cell_type": "code",
   "execution_count": 9,
   "metadata": {
    "collapsed": false,
    "scrolled": true
   },
   "outputs": [
    {
     "data": {
      "text/plain": [
       "9"
      ]
     },
     "execution_count": 9,
     "metadata": {},
     "output_type": "execute_result"
    }
   ],
   "source": [
    "# Check number of dataset\n",
    "len(listFC)"
   ]
  },
  {
   "cell_type": "markdown",
   "metadata": {},
   "source": [
    "### Avoid characters other than English"
   ]
  },
  {
   "cell_type": "code",
   "execution_count": 10,
   "metadata": {
    "collapsed": true
   },
   "outputs": [],
   "source": [
    "env.workspace = \"I:/WSI/20170316_TNDEM2/DEMO/CH10/Taichung/\""
   ]
  },
  {
   "cell_type": "code",
   "execution_count": 11,
   "metadata": {
    "collapsed": false,
    "scrolled": true
   },
   "outputs": [
    {
     "data": {
      "text/plain": [
       "[u'District.shp',\n",
       " u'Industry.shp',\n",
       " u'\\u53f0\\u4e2d\\u5e02\\u516c\\u5712.shp',\n",
       " u'\\u53f0\\u4e2d\\u5e02\\u5340\\u754c(\\u9644\\u4eba\\u53e3).shp',\n",
       " u'\\u53f0\\u4e2d\\u5e02\\u5340\\u754c.shp',\n",
       " u'\\u53f0\\u4e2d\\u5e02\\u570b\\u9053.shp',\n",
       " u'\\u53f0\\u4e2d\\u5e02\\u5b78\\u6821.shp',\n",
       " u'\\u53f0\\u4e2d\\u5e02\\u5de5\\u696d\\u5340.shp',\n",
       " u'\\u53f0\\u4e2d\\u5e02\\u7701\\u9053.shp',\n",
       " u'\\u53f0\\u4e2d\\u5e02\\u7e23\\u9053.shp',\n",
       " u'\\u53f0\\u4e2d\\u5e02\\u8a2d\\u65bd\\u9ede.shp']"
      ]
     },
     "execution_count": 11,
     "metadata": {},
     "output_type": "execute_result"
    }
   ],
   "source": [
    "arcpy.ListFeatureClasses()"
   ]
  },
  {
   "cell_type": "markdown",
   "metadata": {},
   "source": [
    "### Example"
   ]
  },
  {
   "cell_type": "markdown",
   "metadata": {},
   "source": [
    "ESRI: http://pro.arcgis.com/en/pro-app/tool-reference/analysis/clip.htm"
   ]
  },
  {
   "cell_type": "code",
   "execution_count": null,
   "metadata": {
    "collapsed": true
   },
   "outputs": [],
   "source": [
    "# Name: Clip_Example2.py\n",
    "# Description: Clip major roads that fall within the study area. \n",
    "\n",
    "# Import system modules\n",
    "import arcpy\n",
    "from arcpy import env\n",
    "\n",
    "# Set workspace\n",
    "env.workspace = \"C:/data\"\n",
    "\n",
    "# Set local variables\n",
    "in_features = \"majorrds.shp\"\n",
    "clip_features = \"study_quads.shp\"\n",
    "out_feature_class = \"C:/output/studyarea.shp\"\n",
    "xy_tolerance = \"\"\n",
    "\n",
    "# Execute Clip\n",
    "arcpy.Clip_analysis(in_features, clip_features, out_feature_class, xy_tolerance)\n",
    " \n",
    "         \n"
   ]
  },
  {
   "cell_type": "markdown",
   "metadata": {},
   "source": [
    "### Exercise"
   ]
  },
  {
   "cell_type": "code",
   "execution_count": 15,
   "metadata": {
    "collapsed": true
   },
   "outputs": [],
   "source": [
    "# Import module\n",
    "import arcpy\n",
    "from arcpy import env\n",
    "\n",
    "# Set home directory\n",
    "env.workspace = \"I:/WSI/20170316_TNDEM2/DEMO/CH10/Taichung/\""
   ]
  },
  {
   "cell_type": "code",
   "execution_count": 17,
   "metadata": {
    "collapsed": false,
    "scrolled": true
   },
   "outputs": [
    {
     "data": {
      "text/plain": [
       "[u'District.shp',\n",
       " u'Industry.shp',\n",
       " u'\\u53f0\\u4e2d\\u5e02\\u516c\\u5712.shp',\n",
       " u'\\u53f0\\u4e2d\\u5e02\\u5340\\u754c(\\u9644\\u4eba\\u53e3).shp',\n",
       " u'\\u53f0\\u4e2d\\u5e02\\u5340\\u754c.shp',\n",
       " u'\\u53f0\\u4e2d\\u5e02\\u570b\\u9053.shp',\n",
       " u'\\u53f0\\u4e2d\\u5e02\\u5b78\\u6821.shp',\n",
       " u'\\u53f0\\u4e2d\\u5e02\\u5de5\\u696d\\u5340.shp',\n",
       " u'\\u53f0\\u4e2d\\u5e02\\u7701\\u9053.shp',\n",
       " u'\\u53f0\\u4e2d\\u5e02\\u7e23\\u9053.shp',\n",
       " u'\\u53f0\\u4e2d\\u5e02\\u8a2d\\u65bd\\u9ede.shp']"
      ]
     },
     "execution_count": 17,
     "metadata": {},
     "output_type": "execute_result"
    }
   ],
   "source": [
    "arcpy.ListFeatureClasses()"
   ]
  },
  {
   "cell_type": "code",
   "execution_count": 12,
   "metadata": {
    "collapsed": false
   },
   "outputs": [
    {
     "data": {
      "text/plain": [
       "<Result 'I:\\\\WSI\\\\20170316_TNDEM2\\\\DEMO\\\\CH10\\\\output\\\\clip.shp'>"
      ]
     },
     "execution_count": 12,
     "metadata": {},
     "output_type": "execute_result"
    }
   ],
   "source": [
    "# Set local variables\n",
    "in_features = \"District.shp\"\n",
    "clip_features = \"Industry.shp\"\n",
    "out_feature_class = r\"I:\\WSI\\20170316_TNDEM2\\DEMO\\CH10\\output\\clip.shp\"\n",
    "xy_tolerance = \"\"\n",
    "\n",
    "# Execute Clip\n",
    "arcpy.Clip_analysis(in_features, clip_features, out_feature_class, xy_tolerance)  \n",
    "         "
   ]
  },
  {
   "cell_type": "code",
   "execution_count": null,
   "metadata": {
    "collapsed": true
   },
   "outputs": [],
   "source": []
  }
 ],
 "metadata": {
  "kernelspec": {
   "display_name": "Python 2",
   "language": "python",
   "name": "python2"
  },
  "language_info": {
   "codemirror_mode": {
    "name": "ipython",
    "version": 2
   },
   "file_extension": ".py",
   "mimetype": "text/x-python",
   "name": "python",
   "nbconvert_exporter": "python",
   "pygments_lexer": "ipython2",
   "version": "2.7.13"
  }
 },
 "nbformat": 4,
 "nbformat_minor": 2
}
